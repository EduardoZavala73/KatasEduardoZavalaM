{
 "cells": [
  {
   "cell_type": "code",
   "execution_count": null,
   "metadata": {},
   "outputs": [],
   "source": []
  },
  {
   "cell_type": "markdown",
   "metadata": {},
   "source": [
    "Ejercicio - Escribir declaraciones if, else, y elif"
   ]
  },
  {
   "cell_type": "markdown",
   "metadata": {},
   "source": [
    "Para este ejercicio, escribirás una lógica condicional que imprima una advertencia si un asteroide se acerca a la Tierra demasiado rápido. La velocidad del asteroide varía dependiendo de lo cerca que esté del sol, y cualquier velocidad superior a 25 kilómetros por segundo (km/s) merece una advertencia"
   ]
  },
  {
   "cell_type": "markdown",
   "metadata": {},
   "source": [
    "Un asteroide se acerca, y viaja a una velocidad de 49 km/s."
   ]
  },
  {
   "cell_type": "code",
   "execution_count": 1,
   "metadata": {},
   "outputs": [],
   "source": [
    "# Añadir el código necesario para crear una variable que guarde la velocidad del asteroide.\n",
    "# Escribe una expresión de prueba para calcular si necesita una advertencia.\n",
    "# Agregue las instrucciones que se ejecutarán si la expresión de prueba es true o false."
   ]
  },
  {
   "cell_type": "code",
   "execution_count": 9,
   "metadata": {},
   "outputs": [
    {
     "name": "stdout",
     "output_type": "stream",
     "text": [
      "Advertencia: un asteroride se acerca a la tierra \n"
     ]
    }
   ],
   "source": [
    "velocidad_peligrosa = 25\n",
    "velocidad_asteroide = 49\n",
    "if velocidad_asteroide>velocidad_peligrosa:\n",
    "    print( \"Advertencia: un asteroride se acerca a la tierra \")\n",
    "else:\n",
    "    print( \"Nada en el cielo \")"
   ]
  },
  {
   "cell_type": "markdown",
   "metadata": {},
   "source": [
    "Si un asteroide entra en la atmósfera de la Tierra a una velocidad mayor o igual a 20 km/s, a veces produce un rayo de luz que se puede ver desde la Tierra. Escribe la lógica condicional que usa declaraciones if, else, y elif para alertar a las personas de todo el mundo que deben buscar un asteroide en el cielo. ¡Hay uno que se dirige a la tierra ahora a una velocidad de 19 km/s!"
   ]
  },
  {
   "cell_type": "code",
   "execution_count": 4,
   "metadata": {},
   "outputs": [],
   "source": [
    "# Agrega el código para crear una variable para un asteroide que viaja a 19 km/s\n",
    "# Escribe varias expresiones de prueba para determinar si puedes ver el rayo de luz desde la tierra\n",
    "# Agrega las instrucciones que se ejecutarán si las expresiones de prueba son True o False"
   ]
  },
  {
   "cell_type": "code",
   "execution_count": 16,
   "metadata": {},
   "outputs": [
    {
     "name": "stdout",
     "output_type": "stream",
     "text": [
      "nada en el cielo \n"
     ]
    }
   ],
   "source": [
    "asteoride_produce_luz = 20\n",
    "velocidad_asteroide = 19\n",
    "if velocidad_asteroide>asteoride_produce_luz:\n",
    "    print ( \"luz de asteroide en el cielo \")\n",
    "elif velocidad_asteroide == 20:\n",
    "    print ( \"luz de asteroide en el cielo \")\n",
    "else:\n",
    "    print ( \"nada en el cielo \")"
   ]
  },
  {
   "cell_type": "markdown",
   "metadata": {},
   "source": [
    "Ejercicio: Uso de operadores and y or"
   ]
  },
  {
   "cell_type": "markdown",
   "metadata": {},
   "source": [
    "Escribe un programa que emita la advertencia o información correcta a la gente de la Tierra, según la velocidad y el tamaño de un asteroide. Utiliza instrucciones if, else, y elif, así como los operadores and y or."
   ]
  },
  {
   "cell_type": "code",
   "execution_count": 7,
   "metadata": {},
   "outputs": [],
   "source": [
    "# Agrega el código para crear nuevas variables para la velocidad y el tamaño del asteroide\n",
    "# Para probar el código, prueba con varias velocidades y tamaños\n",
    "# Escribe varias expresiones de prueba o combinaciones de expresiones de prueba para determinar qué mensaje se debe enviar a Tierra."
   ]
  },
  {
   "cell_type": "code",
   "execution_count": 14,
   "metadata": {},
   "outputs": [
    {
     "name": "stdout",
     "output_type": "stream",
     "text": [
      "alerta asteroide peligroso \n"
     ]
    }
   ],
   "source": [
    "velocidad_peligrosa = 25\n",
    "tamaño_peligroso = 25\n",
    "velocidad_real = 40\n",
    "tamaño_real = 35\n",
    "if velocidad_real>velocidad_peligrosa and tamaño_real>tamaño_peligroso:\n",
    "    print ( \"alerta asteroide peligroso \")\n",
    "elif velocidad_real<velocidad_peligrosa and tamaño_real>tamaño_peligroso:\n",
    "    print ( \"alerta asteroide peligroso\")\n",
    "elif tamaño_peligroso >= 35:\n",
    "    print ( \"alerta asteroide peligoso\")\n",
    "else: \n",
    "    print ( \"atmosfera tranquila, buen dia\")\n"
   ]
  }
 ],
 "metadata": {
  "interpreter": {
   "hash": "cf25a126b5f185a50a7253b1ab6803acf2c5816cb4a07b5376ef3cac0279f950"
  },
  "kernelspec": {
   "display_name": "Python 3.10.2 64-bit",
   "language": "python",
   "name": "python3"
  },
  "language_info": {
   "codemirror_mode": {
    "name": "ipython",
    "version": 3
   },
   "file_extension": ".py",
   "mimetype": "text/x-python",
   "name": "python",
   "nbconvert_exporter": "python",
   "pygments_lexer": "ipython3",
   "version": "3.10.2"
  },
  "orig_nbformat": 4
 },
 "nbformat": 4,
 "nbformat_minor": 2
}
